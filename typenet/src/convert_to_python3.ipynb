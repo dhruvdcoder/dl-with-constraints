{
 "cells": [
  {
   "cell_type": "code",
   "execution_count": 13,
   "metadata": {},
   "outputs": [],
   "source": [
    "import joblib\n",
    "import json\n",
    "import numpy as np"
   ]
  },
  {
   "cell_type": "code",
   "execution_count": 2,
   "metadata": {},
   "outputs": [],
   "source": [
    "type_dict = joblib.load('/Users/dhruv/Downloads/resources/MIL_data/TypeNet_type2idx.joblib')# type_name: type_id\n",
    "entity_type_dict = joblib.load('/Users/dhruv/Downloads/resources/MIL_data/entity_type_dict_orig.joblib') # entity_name: List of types (ids) it belongs to. May or may not include labels due to TC based on use_transitive flag.\n",
    "entity_dict  = joblib.load('/Users/dhruv/Downloads/resources/MIL_data/entity_dict.joblib') # entity_name: entity_id\n",
    "\n",
    "typenet_matrix_orig = joblib.load('/Users/dhruv/Downloads/resources/MIL_data/TypeNet_transitive_closure.joblib') # adjacency matrix (including transitive closure) size = num_types x num_types\n",
    "                                                                 # includes both fb types and WN types\n",
    "typenet_adj_matrix_orig = joblib.load('/Users/dhruv/Downloads/resources/MIL_data/TypeNet_adj_matrix.joblib') # adjacency matrix. Does not include TC edges. size = num_types x num_types\n"
   ]
  },
  {
   "cell_type": "code",
   "execution_count": 6,
   "metadata": {},
   "outputs": [],
   "source": [
    "with open('/Users/dhruv/Downloads/resources/MIL_data/TypeNet_type2idx.json', 'w') as f:\n",
    "    json.dump(type_dict, f, indent=2)"
   ]
  },
  {
   "cell_type": "code",
   "execution_count": 7,
   "metadata": {},
   "outputs": [],
   "source": [
    "with open('/Users/dhruv/Downloads/resources/MIL_data/entity_type_dict_orig.json', 'w') as f:\n",
    "    json.dump(entity_type_dict, f, indent=2)"
   ]
  },
  {
   "cell_type": "code",
   "execution_count": 8,
   "metadata": {},
   "outputs": [],
   "source": [
    "with open('/Users/dhruv/Downloads/resources/MIL_data/entity_dict.json', 'w') as f:\n",
    "    json.dump(entity_dict, f, indent=2)"
   ]
  },
  {
   "cell_type": "code",
   "execution_count": 12,
   "metadata": {},
   "outputs": [
    {
     "data": {
      "text/plain": [
       "(1941, 1941)"
      ]
     },
     "execution_count": 12,
     "metadata": {},
     "output_type": "execute_result"
    }
   ],
   "source": [
    "typenet_matrix_orig.shape"
   ]
  },
  {
   "cell_type": "code",
   "execution_count": 11,
   "metadata": {},
   "outputs": [
    {
     "data": {
      "text/plain": [
       "(1941, 1941)"
      ]
     },
     "execution_count": 11,
     "metadata": {},
     "output_type": "execute_result"
    }
   ],
   "source": [
    "typenet_adj_matrix_orig.shape"
   ]
  },
  {
   "cell_type": "code",
   "execution_count": 15,
   "metadata": {},
   "outputs": [],
   "source": [
    "with open('/Users/dhruv/Downloads/resources/MIL_data/TypeNet_transitive_closure.npy', 'wb') as f:\n",
    "    np.save(f, typenet_matrix_orig, allow_pickle=False)"
   ]
  },
  {
   "cell_type": "code",
   "execution_count": 16,
   "metadata": {},
   "outputs": [],
   "source": [
    "with open('/Users/dhruv/Downloads/resources/MIL_data/TypeNet_adj_matrix.npy', 'wb') as f:\n",
    "    np.save(f, typenet_adj_matrix_orig, allow_pickle=False)"
   ]
  },
  {
   "cell_type": "code",
   "execution_count": null,
   "metadata": {},
   "outputs": [],
   "source": []
  }
 ],
 "metadata": {
  "kernelspec": {
   "display_name": "Python 2",
   "language": "python",
   "name": "python2"
  },
  "language_info": {
   "codemirror_mode": {
    "name": "ipython",
    "version": 2
   },
   "file_extension": ".py",
   "mimetype": "text/x-python",
   "name": "python",
   "nbconvert_exporter": "python",
   "pygments_lexer": "ipython2",
   "version": "2.7.16"
  }
 },
 "nbformat": 4,
 "nbformat_minor": 2
}
